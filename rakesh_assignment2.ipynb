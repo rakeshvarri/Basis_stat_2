{
  "nbformat": 4,
  "nbformat_minor": 0,
  "metadata": {
    "colab": {
      "provenance": []
    },
    "kernelspec": {
      "name": "python3",
      "display_name": "Python 3"
    },
    "language_info": {
      "name": "python"
    }
  },
  "cells": [
    {
      "cell_type": "markdown",
      "source": [
        "Data:\n",
        "\n",
        "A total of 15 print-heads were randomly selected and tested until failure. The durability of each print-head (in millions of characters) was recorded as follows:\n",
        "1.13, 1.55, 1.43, 0.92, 1.25, 1.36, 1.32, 0.85, 1.07, 1.48, 1.20, 1.33, 1.18, 1.22, **1.29**"
      ],
      "metadata": {
        "id": "7tbjUSYpskI_"
      }
    },
    {
      "cell_type": "code",
      "execution_count": null,
      "metadata": {
        "colab": {
          "base_uri": "https://localhost:8080/"
        },
        "id": "xYQ-0WV4sbv5",
        "outputId": "15ad81c4-f09c-4459-deab-5e301332aeb8"
      },
      "outputs": [
        {
          "output_type": "execute_result",
          "data": {
            "text/plain": [
              "0     1.13\n",
              "1     1.55\n",
              "2     1.43\n",
              "3     0.92\n",
              "4     1.25\n",
              "5     1.36\n",
              "6     1.32\n",
              "7     0.85\n",
              "8     1.07\n",
              "9     1.48\n",
              "10    1.20\n",
              "11    1.33\n",
              "12    1.18\n",
              "13    1.22\n",
              "14    1.29\n",
              "dtype: float64"
            ]
          },
          "metadata": {},
          "execution_count": 1
        }
      ],
      "source": [
        "import pandas as pd\n",
        "data = pd.Series([1.13, 1.55, 1.43, 0.92, 1.25, 1.36, 1.32, 0.85, 1.07, 1.48, 1.20, 1.33, 1.18, 1.22, 1.29])\n",
        "data"
      ]
    },
    {
      "cell_type": "markdown",
      "source": [
        "a. Build 99% Confidence Interval Using Sample Standard Deviation"
      ],
      "metadata": {
        "id": "Q19otk_-t8k_"
      }
    },
    {
      "cell_type": "markdown",
      "source": [
        "CI = Sample mean +- (t-value * std error)\n",
        "\n",
        "margin of error = (t-value * std error)\n",
        "\n",
        "std error = sample stdev / sqrt (N)"
      ],
      "metadata": {
        "id": "jt_pfu-FqM4X"
      }
    },
    {
      "cell_type": "code",
      "source": [
        "from math import sqrt\n",
        "from scipy.stats import t\n",
        "sample_mean = data.mean()\n",
        "print('the sample mean of given data : ' ,sample_mean)\n",
        "sample_stdev = data.std()\n",
        "print('the sample standard deviation of given data : ',sample_stdev)\n",
        "n = len(data)\n",
        "print('number of observations :',n)\n",
        "std_error = sample_stdev / sqrt(n)\n",
        "print('standard error : ',std_error)\n",
        "confidence_level = 0.99 # 99%\n",
        "margin_of_error = std_error * t.ppf(confidence_level,n-1)\n",
        "print('margin of error:', margin_of_error)\n",
        "print('-------')\n",
        "CI_UP = sample_mean + margin_of_error\n",
        "CI_LL = sample_mean - margin_of_error\n",
        "\n",
        "print('the 99 % confidence interval range between',CI_LL,'and',CI_UP)\n",
        "\n"
      ],
      "metadata": {
        "colab": {
          "base_uri": "https://localhost:8080/"
        },
        "id": "-uyMpQ9Ctj3d",
        "outputId": "f8e9401b-d816-4f4f-fdc1-da67aeb0c266"
      },
      "execution_count": null,
      "outputs": [
        {
          "output_type": "stream",
          "name": "stdout",
          "text": [
            "the sample mean of given data :  1.2386666666666666\n",
            "the sample standard deviation of given data :  0.19316412956959936\n",
            "number of observations : 15\n",
            "standard error :  0.04987476379384733\n",
            "margin of error: 0.1308960216979201\n",
            "-------\n",
            "the 99 % confidence interval range between 1.1077706449687466 and 1.3695626883645866\n"
          ]
        }
      ]
    },
    {
      "cell_type": "markdown",
      "source": [
        "b. Build 99% Confidence Interval Using Known Population Standard Deviation\n",
        "If it were known that the population standard deviation is 0.2 million characters, construct a 99% confidence interval for the mean number of characters printed before failure.\n"
      ],
      "metadata": {
        "id": "eI1hn9_ShVnN"
      }
    },
    {
      "cell_type": "markdown",
      "source": [
        "CI = Point estimnate +- margin of error\n",
        "\n",
        "point estimate = sample mean\n",
        "\n",
        "margin of error = z-value * std error\n",
        "\n",
        "std error = population stdev / sqrt (n)"
      ],
      "metadata": {
        "id": "pkF-eBO8iuAr"
      }
    },
    {
      "cell_type": "code",
      "source": [
        "#population standard deviation is given\n",
        "from math import sqrt\n",
        "from scipy.stats import norm\n",
        "sample_mean = data.mean()\n",
        "print('the sample mean of given data : ' ,sample_mean)\n",
        "population_stdev = 0.2\n",
        "print('the sample standard deviation of given data : ',population_stdev)\n",
        "n = len(data)\n",
        "print('number of observations :',n)\n",
        "std_error = sample_stdev / sqrt(n)\n",
        "print('standard error : ',std_error)\n",
        "confidence_level = 0.99 # 99%\n",
        "margin_of_error = std_error * norm.ppf(confidence_level, n - 1)\n",
        "print('margin of error:', margin_of_error)\n",
        "print('-------')\n",
        "CI_UP = sample_mean + margin_of_error\n",
        "CI_LL = sample_mean - margin_of_error\n",
        "\n",
        "print('the 99 % confidence interval range between',CI_LL,'and',CI_UP)\n",
        "\n"
      ],
      "metadata": {
        "colab": {
          "base_uri": "https://localhost:8080/"
        },
        "outputId": "d68b254f-08eb-4844-a5fc-9533c3627012",
        "id": "ORxnaTmIgaoT"
      },
      "execution_count": null,
      "outputs": [
        {
          "output_type": "stream",
          "name": "stdout",
          "text": [
            "the sample mean of given data :  1.2386666666666666\n",
            "the sample standard deviation of given data :  0.2\n",
            "number of observations : 15\n",
            "standard error :  0.04987476379384733\n",
            "margin of error: 0.8142727438339685\n",
            "-------\n",
            "the 99 % confidence interval range between 0.42439392283269806 and 2.052939410500635\n"
          ]
        }
      ]
    },
    {
      "cell_type": "markdown",
      "source": [
        "In second case , we use norm.ppf for calculating margin of error because they had given population standatd deviation"
      ],
      "metadata": {
        "id": "K_FhJX-WibX1"
      }
    },
    {
      "cell_type": "markdown",
      "source": [
        "In the case of population standard deviation is given , we use z - statatistics"
      ],
      "metadata": {
        "id": "3o5JeSr5j0cQ"
      }
    },
    {
      "cell_type": "markdown",
      "source": [
        "else population standard deviation is not given , we use sample standard deviation instead of population standard deviation , we use  t - statastics"
      ],
      "metadata": {
        "id": "LWb3z7tQkBd1"
      }
    },
    {
      "cell_type": "code",
      "source": [
        "print('-----------------------------------------------------end----------------------------------------------------')"
      ],
      "metadata": {
        "id": "9LSOUL6Wjzp-",
        "colab": {
          "base_uri": "https://localhost:8080/"
        },
        "outputId": "2928f54e-8c01-40ec-b7ec-70269d2bf75f"
      },
      "execution_count": null,
      "outputs": [
        {
          "output_type": "stream",
          "name": "stdout",
          "text": [
            "-----------------------------------------------------end----------------------------------------------------\n"
          ]
        }
      ]
    }
  ]
}